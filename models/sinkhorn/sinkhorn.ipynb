{
 "cells": [
  {
   "cell_type": "markdown",
   "metadata": {
    "pycharm": {
     "name": "#%% md\n"
    }
   },
   "source": [
    "# Missing data imputation using optimal transport\n",
    "\n",
    "In this notebook, we will show how to use optimal transport to impute missing values in an incomplete dataset.\n",
    "\n",
    "The methods we will use are described in the following paper:\n",
    "\n",
    "B. Muzellec, J. Josse, C. Boyer, M. Cuturi, [Missing Data Imputation using Optimal Transport](https://arxiv.org/pdf/2002.03860.pdf)."
   ]
  },
  {
   "cell_type": "code",
   "execution_count": 1,
   "metadata": {
    "collapsed": false,
    "jupyter": {
     "outputs_hidden": false
    },
    "pycharm": {
     "name": "#%%\n"
    }
   },
   "outputs": [],
   "source": [
    "%matplotlib inline\n",
    "import matplotlib.pyplot as plt\n",
    "\n",
    "import torch\n",
    "import torch.nn as nn\n",
    "import numpy as np\n",
    "import pandas as pd\n",
    "\n",
    "from sklearn.preprocessing import scale\n",
    "from sklearn.experimental import enable_iterative_imputer\n",
    "from sklearn.impute import SimpleImputer, IterativeImputer\n",
    "\n",
    "import os\n",
    "\n",
    "from geomloss import SamplesLoss\n",
    "\n",
    "from imputers import OTimputer, RRimputer\n",
    "\n",
    "from utils import *\n",
    "from data_loaders import dataset_loader\n",
    "from softimpute import softimpute, cv_softimpute\n",
    "\n",
    "import logging\n",
    "logger = logging.getLogger()\n",
    "logger.setLevel(logging.INFO)\n",
    "logging.debug(\"test\")\n",
    "\n",
    "torch.set_default_tensor_type('torch.DoubleTensor')"
   ]
  },
  {
   "cell_type": "code",
   "execution_count": 13,
   "metadata": {},
   "outputs": [],
   "source": [
    "def get_data(name):\n",
    "    df_ori = pd.read_csv('autodl-tmp/6/' + name + '_std.csv')\n",
    "    df_mis = pd.read_csv('autodl-tmp/6/' + name + '_clean.csv')\n",
    "    mask = pd.read_csv('autodl-tmp/6/' + name + '_sign.csv')\n",
    "#     df_ori[df_ori > 100 * np.nanmax(df_mis)] = 1\n",
    "    return df_ori, df_mis, mask"
   ]
  },
  {
   "cell_type": "code",
   "execution_count": 12,
   "metadata": {},
   "outputs": [
    {
     "name": "stderr",
     "output_type": "stream",
     "text": [
      "INFO:root:batchsize = 128, epsilon = 0.0095\n",
      "INFO:root:Iteration 0:\t Loss: 0.0381\t Validation MAE: 0.1780\tRMSE: 0.2337\n",
      "INFO:root:Iteration 500:\t Loss: 0.0214\t Validation MAE: 0.0895\tRMSE: 0.1624\n",
      "INFO:root:Iteration 1000:\t Loss: 0.0250\t Validation MAE: 0.0844\tRMSE: 0.1593\n"
     ]
    }
   ],
   "source": [
    "df_ori, df_mis, mask = get_data('XY6')\n",
    "\n",
    "X_true = torch.from_numpy(np.array(df_ori))\n",
    "X_miss = torch.from_numpy(np.array(df_mis))\n",
    "\n",
    "n, d = X_miss.shape\n",
    "batchsize = 128 \n",
    "lr = 1e-2\n",
    "epsilon = pick_epsilon(X_miss)\n",
    "\n",
    "sk_imputer = OTimputer(eps=epsilon, batchsize=batchsize, lr=lr, niter=1001)\n",
    "sk_imp, sk_maes, sk_rmses = sk_imputer.fit_transform(X_miss, verbose=True, report_interval=500, X_true=X_true)"
   ]
  },
  {
   "cell_type": "code",
   "execution_count": 10,
   "metadata": {},
   "outputs": [],
   "source": [
    "output = pd.DataFrame(sk_imp.detach().numpy(), columns = df_ori.columns)\n",
    "output.to_csv('autodl-tmp/Sink_50.csv', index = False)"
   ]
  },
  {
   "cell_type": "code",
   "execution_count": null,
   "metadata": {},
   "outputs": [],
   "source": []
  }
 ],
 "metadata": {
  "kernelspec": {
   "display_name": "Python 3 (ipykernel)",
   "language": "python",
   "name": "python3"
  },
  "language_info": {
   "codemirror_mode": {
    "name": "ipython",
    "version": 3
   },
   "file_extension": ".py",
   "mimetype": "text/x-python",
   "name": "python",
   "nbconvert_exporter": "python",
   "pygments_lexer": "ipython3",
   "version": "3.8.10"
  }
 },
 "nbformat": 4,
 "nbformat_minor": 4
}
